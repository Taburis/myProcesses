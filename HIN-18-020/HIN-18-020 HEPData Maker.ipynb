{
 "cells": [
  {
   "cell_type": "code",
   "execution_count": null,
   "metadata": {},
   "outputs": [],
   "source": [
    "from hepdata_lib import RootFileReader\n",
    "from hepdata_lib import Table\n",
    "from hepdata_lib import Variable, Uncertainty\n",
    "from hepdata_lib import Submission\n",
    "def round_pair(array, n):\n",
    "    newx = []\n",
    "    for x in array:\n",
    "        newx.append((round(x[0],n), round(x[1],n)))\n",
    "    return newx\n",
    "\n",
    "def round_list(array,n):\n",
    "    newx = [ round(x,n) for x in array]\n",
    "    return newx"
   ]
  },
  {
   "cell_type": "code",
   "execution_count": null,
   "metadata": {},
   "outputs": [],
   "source": [
    "reader = RootFileReader(\"Results/jet_shapes.root\")\n",
    "hjs_incl = reader.read_hist_1d('dr_data_incl_js_allpt_0_0')\n",
    "hjs_b = reader.read_hist_1d('dr_data_bjtc_js_allpt_0_0')\n",
    "hratio = reader.read_hist_1d('division_dr_data_bjtc_js_allpt_0_0')\n",
    "hjs_incl_syst = reader.read_hist_1d('dr_data_incl_allpt_syst_err_0_0')\n",
    "hjs_b_syst = reader.read_hist_1d('dr_data_bjtc_allpt_syt_err_0_0')\n",
    "hratio_syst = reader.read_hist_1d('division_dr_data_bjtc_allpt_syt_err_0_0')\n",
    "\n",
    "reader2 = RootFileReader(\"Results/particle_yield.root\")\n",
    "hpy_incl = reader2.read_hist_1d('js_incl_tot')\n",
    "hpy_b = reader2.read_hist_1d('js_b_tot')\n",
    "hdiff = reader2.read_hist_1d('diff_tot')\n",
    "hpy_incl_syst = reader2.read_hist_1d('js_incl_err_tot')\n",
    "hpy_b_syst = reader2.read_hist_1d('js_b_err_tot')\n",
    "hdiff_syst = reader2.read_hist_1d('diff_err_tot')\n"
   ]
  },
  {
   "cell_type": "code",
   "execution_count": null,
   "metadata": {},
   "outputs": [],
   "source": [
    "## load data\n",
    "# x-axis : dr \n",
    "ndigi = 3\n",
    "dr = Variable(\"$\\Delta r$\", is_independent = True)\n",
    "dr.values = round_pair(hjs_incl[\"x_edges\"][:11],ndigi)\n",
    "\n",
    "# y-axis : jet shapes\n",
    "js_incl = Variable(\"Inclusive Jet Shapes\", is_independent = False, is_binned=False, units=\"\")\n",
    "js_incl.values = round_list(hjs_incl[\"y\"][:11],ndigi)\n",
    "\n",
    "js_incl_err = Uncertainty(\"Statistical Uncert\", is_symmetric = True)\n",
    "js_incl_err.values = round_list(hjs_incl['dy'][:11],ndigi)\n",
    "js_incl.add_uncertainty(js_incl_err)\n",
    "\n",
    "js_incl_syst = Uncertainty(\"Systematic Uncert\", is_symmetric = True)\n",
    "js_incl_syst.values = round_list(hjs_incl_syst['dy'][:11],ndigi)\n",
    "js_incl.add_uncertainty(js_incl_syst)\n",
    "\n",
    "js_b = Variable(\"b Jet Shapes\", is_independent = False, is_binned=False, units=\"\")\n",
    "js_b.values = round_list(hjs_b[\"y\"][:11],ndigi)\n",
    "\n",
    "js_b_syst = Uncertainty(\"Systematic Uncert\", is_symmetric = True)\n",
    "js_b_syst.values = round_list(hjs_b_syst['dy'][:11],ndigi)\n",
    "js_b.add_uncertainty(js_b_syst)\n",
    "\n",
    "js_b_err = Uncertainty(\"Statistical Uncert\", is_symmetric = True)\n",
    "js_b_err.values = round_list(hjs_b['dy'][:11],ndigi)\n",
    "js_b.add_uncertainty(js_b_err)\n",
    "\n",
    "ratio = Variable(\"b-to-Inclusive Jet Shape Ratios\", is_independent = False, is_binned=False, units=\"\")\n",
    "ratio.values = round_list(hratio[\"y\"][:11],ndigi)\n",
    "\n",
    "ratio_syst = Uncertainty(\"Systematic Uncer\", is_symmetric = True)\n",
    "ratio_syst.values = round_list(hratio_syst['dy'][:11],ndigi)\n",
    "ratio.add_uncertainty(ratio_syst)\n",
    "\n",
    "ratio_err = Uncertainty(\"Statistical Uncert\", is_symmetric = True)\n",
    "ratio_err.values = round_list(hratio['dy'][:11],ndigi)\n",
    "ratio.add_uncertainty(ratio_err)\n",
    "\n",
    "# y-axis : particle yield\n",
    "py_incl = Variable(\"Inclusive Charge Particle Yield\", is_independent = False, is_binned=False, units=\"\")\n",
    "py_incl.values = round_list(hpy_incl[\"y\"][:11],ndigi)\n",
    "\n",
    "py_incl_err = Uncertainty(\"Statistical Uncert\", is_symmetric = True)\n",
    "py_incl_err.values = round_list(hpy_incl['dy'][:11],ndigi)\n",
    "py_incl.add_uncertainty(py_incl_err)\n",
    "\n",
    "py_incl_syst = Uncertainty(\"Systematic Uncert\", is_symmetric = True)\n",
    "py_incl_syst.values = round_list(hpy_incl_syst['dy'][:11],ndigi)\n",
    "py_incl.add_uncertainty(py_incl_syst)\n",
    "\n",
    "py_b = Variable(\"b Jet Charged Particle Yield\", is_independent = False, is_binned=False, units=\"\")\n",
    "py_b.values = round_list(hpy_b[\"y\"][:11],ndigi)\n",
    "\n",
    "py_b_syst = Uncertainty(\"Systematic Uncert\", is_symmetric = True)\n",
    "py_b_syst.values = round_list(hpy_b_syst['dy'][:11],ndigi)\n",
    "py_b.add_uncertainty(py_b_syst)\n",
    "\n",
    "py_b_err = Uncertainty(\"Statistical Uncert\", is_symmetric = True)\n",
    "py_b_err.values = round_list(hpy_b['dy'][:11],ndigi)\n",
    "py_b.add_uncertainty(py_b_err)\n",
    "\n",
    "diff = Variable(\"Charged Particle Yield difference of b-to-Inclusive Jets\", is_independent = False, is_binned=False, units=\"\")\n",
    "diff.values = round_list(hdiff[\"y\"][:11],ndigi)\n",
    "\n",
    "diff_syst = Uncertainty(\"Systematic Uncer\", is_symmetric = True)\n",
    "diff_syst.values = round_list(hdiff_syst['dy'][:11],ndigi)\n",
    "diff.add_uncertainty(diff_syst)\n",
    "\n",
    "diff_err = Uncertainty(\"Statistical Uncert\", is_symmetric = True)\n",
    "diff_err.values = round_list(hdiff['dy'][:11],ndigi)\n",
    "diff.add_uncertainty(diff_err)"
   ]
  },
  {
   "cell_type": "code",
   "execution_count": 4,
   "metadata": {},
   "outputs": [],
   "source": [
    "submission = Submission()\n",
    "table1 = Table(\"Figure 4\")\n",
    "\n",
    "table1.description = \": The jet shape distribution $\\rho(\\Delta r)$ of inclusive jets (left) and b jets (middle), \\\n",
    "both with $p_T > 120$ GeV and $p^{trk}_T > 1$ GeV are presented as functions of $\\Delta r$ for data(red markers). \\\n",
    "The right plot shows the b-to-inclusive jet shape ratio as functions of $\\Delta r$ for data. The shadowed boxes \\\n",
    "represent the systematic uncertainty.\"\n",
    "table1.keywords[\"observation\"]=[\"Jet Shapes\"]\n",
    "table1.keywords[\"Kinematic Range\"] = [\"jet pT >  120 GeV\", \"jet |eta|<1.6\", \"charged particles pT > 1 GeV\"]\n",
    "\n",
    "table1.add_variable(dr)\n",
    "table1.add_variable(js_incl)\n",
    "table1.add_variable(js_b)\n",
    "table1.add_variable(ratio)\n",
    "submission.add_table(table1)"
   ]
  },
  {
   "cell_type": "code",
   "execution_count": 5,
   "metadata": {},
   "outputs": [],
   "source": [
    "table2 = Table(\"Figure 2\")\n",
    "\n",
    "table2.description = \"Charged particle yield distributions $Y(\\Delta r)$ of inclusive jets (left) and b jets \\\n",
    "(middle)with $1 < p_T^{\\text{trk} < 12$ GeV are presented as functions of $\\Delta r$. Both types of jets with\\\n",
    "$p_T > 120$ GeV and charged particles with $1 < p^{\\text{trk}_T < 12$ GeV are used to construct the distributions\\\n",
    "as functions of $\\Delta r$ for data (red). The right plot shows the particle yield difference of b jets and \\\n",
    "inclusive jets as functions of $\\Delta r$ for pp data. The shadowed boxes represent the systematic uncertainties.\"\n",
    "table2.keywords[\"observation\"]=[\"Charged Particle Yield\"]\n",
    "table2.keywords[\"Kinematic Range\"] = [\"jet pT >  120 GeV\", \"jet |eta|<1.6\", \"charged particles pT > 1 GeV\"]\n",
    "\n",
    "table2.add_variable(dr)\n",
    "table2.add_variable(py_incl)\n",
    "table2.add_variable(py_b)\n",
    "table2.add_variable(diff)\n",
    "submission.add_table(table2)"
   ]
  },
  {
   "cell_type": "code",
   "execution_count": 6,
   "metadata": {},
   "outputs": [],
   "source": [
    "submission.create_files(\"hin_18_020_hepdata\")"
   ]
  },
  {
   "cell_type": "code",
   "execution_count": 7,
   "metadata": {
    "scrolled": true
   },
   "outputs": [
    {
     "name": "stdout",
     "output_type": "stream",
     "text": [
      "dependent_variables:\r\n",
      "- header:\r\n",
      "    name: Inclusive Jet Shapes\r\n",
      "  values:\r\n",
      "  - errors:\r\n",
      "    - label: Statistical Uncert\r\n",
      "      symerror: 0.005\r\n",
      "    - label: Systematic Uncert\r\n",
      "      symerror: 0.705\r\n",
      "    value: 11.97\r\n"
     ]
    }
   ],
   "source": [
    "!head hin_18_020_hepdata/figure_4.yaml"
   ]
  },
  {
   "cell_type": "code",
   "execution_count": null,
   "metadata": {},
   "outputs": [],
   "source": []
  }
 ],
 "metadata": {
  "kernelspec": {
   "display_name": "Python 3",
   "language": "python",
   "name": "python3"
  },
  "language_info": {
   "codemirror_mode": {
    "name": "ipython",
    "version": 3
   },
   "file_extension": ".py",
   "mimetype": "text/x-python",
   "name": "python",
   "nbconvert_exporter": "python",
   "pygments_lexer": "ipython3",
   "version": "3.7.6"
  }
 },
 "nbformat": 4,
 "nbformat_minor": 5
}
